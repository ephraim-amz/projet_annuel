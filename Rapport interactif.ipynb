{
 "cells": [
  {
   "cell_type": "markdown",
   "source": [
    "Dans le cadre de la 3ème année de bachelor en Intelligence Artificielle et Big Data, un projet ayant pour objectif d'implémenter des modèles et algorithmes lié au Machine Learning nous a été confié."
   ],
   "metadata": {}
  },
  {
   "cell_type": "markdown",
   "source": [
    "## Choix du sujet\r\n",
    "Le sujet choisit par notre groupe est celui permettant de prédire la note (IMDB) d'un film en fonction de différents paramètres\r\n",
    "\r\n",
    "## Constitution du dataset\r\n",
    "\r\n",
    "Afin de créer le dataset utilisé pour nos modèles, on s'est rendu sur le [site](https://www.imdb.com/interfaces/ \"IMDb Datasets\") où on a choisit de garder uniquement les archives\r\n",
    "*name.basics.tsv, title.basics.tsv, title.principals.tsv* ainsi que *title.ratings.tsv*\r\n",
    "\r\n",
    "1. Nettoyage du dataset\r\n",
    "\r\n",
    "Le dataset étant très volumineux, il a fallu effectuer énormément de preprocessing notamment en ce qui concerne les titres des films, en effet dans le dataset le fait que certains films aient des titres contenant des virgules ont rendu la tâche plutôt compliquée.\r\n",
    "\r\n",
    "Pour formatter les fichiers volumineux, la commande `sed` permettant de modifier des fichiers textes. Cette commande a été particulièrement utile afin de reformatter les fichiers et ainsi éliminer les lignes erronés.\r\n",
    "\r\n",
    "\r\n"
   ],
   "metadata": {
    "collapsed": false,
    "pycharm": {
     "name": "#%% md\n"
    }
   }
  },
  {
   "cell_type": "markdown",
   "source": [
    "Ensuite une base de données mySQL a été créé afin de manipuler de façon plus aisée les information liés aux films. Pour le projet, on s'est servis uniquement des fichiers les titres des films, des réalisateurs, des acteurs, des équipes et des notes associés.\r\n",
    "\r\n",
    "Après cela la requête SQL qui suit a été conçu afin de récupérer les films qui seront utilisés plus tard.\r\n",
    "\r\n",
    "\r\n",
    "```sql\r\n",
    "SELECT t.titleType, t.primaryTitle, t.originalTitle, d.primaryName director, w.primaryName writer, a.primaryName, t.startYear, t.runtimeMinutes, t.genres, r.averageRating, r.numVotes\r\n",
    "FROM title t, name d, name w, name a, crew cr, credits c, ratings r\r\n",
    "WHERE t.tconst = cr.tconst\r\n",
    "AND c.tconst = t.tconst\r\n",
    "AND c.nconst = a.nconst\r\n",
    "AND t.isAdult = 0\r\n",
    "AND c.category = 'actor'\r\n",
    "AND d.nconst = cr.directors\r\n",
    "AND r.tconst = t.tconst\r\n",
    "AND w.nconst = cr.writers\r\n",
    "AND t.runtimeMinutes IS NOT NULL AND t.genres IS NOT NULL AND t.startYear IS NOT NULL\r\n",
    "GROUP BY t.tconst;\r\n",
    "```"
   ],
   "metadata": {}
  },
  {
   "cell_type": "markdown",
   "source": [
    "Extrait de code permettant d'encoder le dataset l'aide de la fonction  ```LabelEncoder``` de la bibliothèque ```sklearn.preprocessing``` "
   ],
   "metadata": {}
  },
  {
   "cell_type": "code",
   "execution_count": null,
   "source": [
    "from sklearn.preprocessing import LabelEncoder\r\n",
    "import pandas as pd\r\n",
    "\r\n",
    "lbl_encoder = LabelEncoder()\r\n",
    "dataset = pd.read_csv('categorical_dataset.csv')\r\n",
    "dataset = dataset[~dataset['genres'].str.contains('Adult')]\r\n",
    "\r\n",
    "dataset['genres'] = lbl_encoder.fit_transform(dataset['genres'])\r\n",
    "\r\n",
    "dataset[['startYear', 'genres', 'numVotes']].to_csv('dataset.csv', index=None)"
   ],
   "outputs": [],
   "metadata": {}
  },
  {
   "cell_type": "markdown",
   "source": [
    "# Performances des algorithmes"
   ],
   "metadata": {}
  },
  {
   "cell_type": "markdown",
   "source": [
    "# Problématique choisie\r\n",
    "\r\n"
   ],
   "metadata": {}
  },
  {
   "cell_type": "markdown",
   "source": [
    "\r\n",
    "## Impact des paramètres\r\n"
   ],
   "metadata": {}
  },
  {
   "cell_type": "markdown",
   "source": [
    "## Étude de la rapidité des différents paramètres"
   ],
   "metadata": {}
  },
  {
   "cell_type": "markdown",
   "source": [
    "# Justesse de l'implémentation"
   ],
   "metadata": {}
  },
  {
   "cell_type": "markdown",
   "source": [
    "# Modèle Linéaire"
   ],
   "metadata": {}
  },
  {
   "cell_type": "markdown",
   "source": [
    "# Perceptron Multi Couches"
   ],
   "metadata": {}
  },
  {
   "cell_type": "markdown",
   "source": [
    "# Radical Basis Function Network"
   ],
   "metadata": {}
  },
  {
   "cell_type": "markdown",
   "source": [
    "# Sur apprentissage du modèle"
   ],
   "metadata": {}
  },
  {
   "cell_type": "markdown",
   "source": [
    "# Mise en évidence du biais dans la base d'exemple"
   ],
   "metadata": {}
  },
  {
   "cell_type": "markdown",
   "source": [
    "# Difficultés concernant la recherche d'un modèle correspondant au mieux aux besoins du projet"
   ],
   "metadata": {}
  },
  {
   "cell_type": "markdown",
   "source": [
    "# Régression"
   ],
   "metadata": {}
  }
 ],
 "metadata": {
  "orig_nbformat": 4,
  "language_info": {
   "name": "python"
  }
 },
 "nbformat": 4,
 "nbformat_minor": 2
}