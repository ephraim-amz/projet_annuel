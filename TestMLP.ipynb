{
 "cells": [
  {
   "cell_type": "code",
   "execution_count": 1,
   "id": "fc37546b",
   "metadata": {},
   "outputs": [],
   "source": [
    "from ctypes import *\n",
    "import matplotlib.pyplot as plt\n",
    "import random\n",
    "import numpy as np\n",
    "from dataclasses import dataclass\n",
    "import math"
   ]
  },
  {
   "cell_type": "code",
   "execution_count": 2,
   "id": "a497cdca",
   "metadata": {},
   "outputs": [],
   "source": [
    "path_to_dll = \"C:/Users/gautier/CLionProjects/Test2/cmake-build-debug/libTest2.dll\"\n",
    "mylib = cdll.LoadLibrary(path_to_dll)"
   ]
  },
  {
   "cell_type": "code",
   "execution_count": 3,
   "id": "2d181b08",
   "metadata": {
    "scrolled": true
   },
   "outputs": [
    {
     "ename": "OSError",
     "evalue": "exception: access violation writing 0x0000027F8A99F000",
     "output_type": "error",
     "traceback": [
      "\u001b[1;31m---------------------------------------------------------------------------\u001b[0m",
      "\u001b[1;31mOSError\u001b[0m                                   Traceback (most recent call last)",
      "\u001b[1;32m<ipython-input-3-36805a43b06b>\u001b[0m in \u001b[0;36m<module>\u001b[1;34m\u001b[0m\n\u001b[0;32m     32\u001b[0m \u001b[0mmylib\u001b[0m\u001b[1;33m.\u001b[0m\u001b[0mcreate_mlp_model\u001b[0m\u001b[1;33m.\u001b[0m\u001b[0mrestype\u001b[0m \u001b[1;33m=\u001b[0m \u001b[0mc_void_p\u001b[0m\u001b[1;33m\u001b[0m\u001b[1;33m\u001b[0m\u001b[0m\n\u001b[0;32m     33\u001b[0m \u001b[1;33m\u001b[0m\u001b[0m\n\u001b[1;32m---> 34\u001b[1;33m \u001b[0mmodel\u001b[0m \u001b[1;33m=\u001b[0m \u001b[0mmylib\u001b[0m\u001b[1;33m.\u001b[0m\u001b[0mcreate_mlp_model\u001b[0m\u001b[1;33m(\u001b[0m\u001b[0minit\u001b[0m\u001b[1;33m)\u001b[0m\u001b[1;33m\u001b[0m\u001b[1;33m\u001b[0m\u001b[0m\n\u001b[0m\u001b[0;32m     35\u001b[0m \u001b[1;33m\u001b[0m\u001b[0m\n\u001b[0;32m     36\u001b[0m \"\"\"test_dataset = [[x1 / 10, x2 / 10] for x1 in range(-10, 20) for x2 in range(-10, 20)]\n",
      "\u001b[1;31mOSError\u001b[0m: exception: access violation writing 0x0000027F8A99F000"
     ]
    }
   ],
   "source": [
    "#mylib.create_mlp_model.argtypes = [POINTER(c_int)]\n",
    "#mylib.create_mlp_model.restype = c_void_p\n",
    "#mylib.predict_mlp_model_regression.argtypes = [c_void_p, POINTER(c_float)]\n",
    "#mylib.predict_mlp_model_regression.restype = POINTER(c_float)\n",
    "#mylib.predict_mlp_model_classification.argtypes = [c_void_p, POINTER(c_float)]\n",
    "#mylib.predict_mlp_model_classification.restype = POINTER(c_float)\n",
    "#mylib.train_classification_stochastic_gradient_backpropagation_mlp_model.argtypes = [c_void_p, POINTER(c_float), POINTER(c_float), c_float, c_int]\n",
    "#mylib.train_classification_stochastic_gradient_backpropagation_mlp_model.restype = None\n",
    "#mylib.train_regression_stochastic_gradient_backpropagation_mlp_model.argtypes = [c_void_p, POINTER(c_float), POINTER(c_float), c_float, c_int]\n",
    "#mylib.train_regression_stochastic_gradient_backpropagation_mlp_model.restype = None\n",
    "\n",
    "dataset_inputs = [\n",
    "                [0, 0],\n",
    "                [1, 1],\n",
    "                [0, 1],\n",
    "                [1, 0],\n",
    "]\n",
    "\n",
    "dataset_expected_outputs = [\n",
    "                -1,\n",
    "                -1,\n",
    "                1,\n",
    "                1,\n",
    "]\n",
    "\n",
    "init_tab = [2, 2, 1]\n",
    "init_size = len(init_tab)\n",
    "init_type = c_int * init_size\n",
    "init = init_type(*init_tab)\n",
    "\n",
    "mylib.create_mlp_model.argtypes = [init_type]\n",
    "mylib.create_mlp_model.restype = c_void_p\n",
    "\n",
    "model = mylib.create_mlp_model(init)\n",
    "\n",
    "\"\"\"test_dataset = [[x1 / 10, x2 / 10] for x1 in range(-10, 20) for x2 in range(-10, 20)]\n",
    "colors = [\"blue\" if output >= 0 else \"red\" for output in dataset_expected_outputs]\n",
    "\n",
    "predicted_outputs = [mylib.predict_mlp_model_classification(model, p)[0] for p in test_dataset]\n",
    "predicted_outputs_colors = ['blue' if label >= 0 else 'red' for label in predicted_outputs]\n",
    "plt.scatter([p[0] for p in test_dataset], [p[1] for p in test_dataset], c=predicted_outputs_colors)\n",
    "plt.scatter([p[0] for p in dataset_inputs], [p[1] for p in dataset_inputs], c=colors, s=200)\n",
    "plt.show()\n",
    "\n",
    "flattened_dataset_inputs = []\n",
    "for p in dataset_inputs:\n",
    "  flattened_dataset_inputs.append(p[0])\n",
    "  flattened_dataset_inputs.append(p[1])\n",
    "\n",
    "mylib.train_classification_stochastic_gradient_backpropagation_mlp_model(model, \n",
    "                                                                   flattened_dataset_inputs, \n",
    "                                                                   dataset_expected_outputs,\n",
    "                                                                   alpha = 0.001,\n",
    "                                                                   iterations_count=100000)\n",
    "\n",
    "predicted_outputs = [mylib.predict_mlp_model_classification(model, p)[0] for p in test_dataset]\n",
    "predicted_outputs_colors = ['blue' if label >= 0 else 'red' for label in predicted_outputs]\n",
    "plt.scatter([p[0] for p in test_dataset], [p[1] for p in test_dataset], c=predicted_outputs_colors)\n",
    "plt.scatter([p[0] for p in dataset_inputs], [p[1] for p in dataset_inputs], c=colors, s=200)\n",
    "plt.show()\n",
    "\n",
    "flattened_dataset_inputs = []\n",
    "for p in dataset_inputs:\n",
    "  flattened_dataset_inputs.append(p[0])\n",
    "  flattened_dataset_inputs.append(p[1])\"\"\""
   ]
  },
  {
   "cell_type": "code",
   "execution_count": null,
   "id": "37a7681e",
   "metadata": {},
   "outputs": [],
   "source": []
  }
 ],
 "metadata": {
  "kernelspec": {
   "display_name": "Python 3",
   "language": "python",
   "name": "python3"
  },
  "language_info": {
   "codemirror_mode": {
    "name": "ipython",
    "version": 3
   },
   "file_extension": ".py",
   "mimetype": "text/x-python",
   "name": "python",
   "nbconvert_exporter": "python",
   "pygments_lexer": "ipython3",
   "version": "3.8.8"
  }
 },
 "nbformat": 4,
 "nbformat_minor": 5
}
